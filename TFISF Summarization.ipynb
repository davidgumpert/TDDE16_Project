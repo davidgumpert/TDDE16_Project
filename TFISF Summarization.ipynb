{
 "cells": [
  {
   "cell_type": "markdown",
   "metadata": {},
   "source": [
    "## Importing packages"
   ]
  },
  {
   "cell_type": "markdown",
   "metadata": {},
   "source": [
    "Importing all needed packages for the full notebook. Only needs to be ran once. "
   ]
  },
  {
   "cell_type": "code",
   "execution_count": 1,
   "metadata": {},
   "outputs": [
    {
     "name": "stdout",
     "output_type": "stream",
     "text": [
      "Requirement already satisfied: rouge-score in c:\\users\\david\\anaconda3\\envs\\tdde16\\lib\\site-packages (0.0.4)\n",
      "Requirement already satisfied: six>=1.14.0 in c:\\users\\david\\anaconda3\\envs\\tdde16\\lib\\site-packages (from rouge-score) (1.15.0)\n",
      "Requirement already satisfied: absl-py in c:\\users\\david\\anaconda3\\envs\\tdde16\\lib\\site-packages (from rouge-score) (0.13.0)\n",
      "Requirement already satisfied: nltk in c:\\users\\david\\anaconda3\\envs\\tdde16\\lib\\site-packages (from rouge-score) (3.5)\n",
      "Requirement already satisfied: numpy in c:\\users\\david\\anaconda3\\envs\\tdde16\\lib\\site-packages (from rouge-score) (1.19.2)\n",
      "Requirement already satisfied: joblib in c:\\users\\david\\anaconda3\\envs\\tdde16\\lib\\site-packages (from nltk->rouge-score) (1.0.0)\n",
      "Requirement already satisfied: click in c:\\users\\david\\anaconda3\\envs\\tdde16\\lib\\site-packages (from nltk->rouge-score) (7.1.2)\n",
      "Requirement already satisfied: tqdm in c:\\users\\david\\anaconda3\\envs\\tdde16\\lib\\site-packages (from nltk->rouge-score) (4.55.1)\n",
      "Requirement already satisfied: regex in c:\\users\\david\\anaconda3\\envs\\tdde16\\lib\\site-packages (from nltk->rouge-score) (2020.11.13)\n"
     ]
    }
   ],
   "source": [
    "import sys\n",
    "!{sys.executable} -m pip install rouge-score"
   ]
  },
  {
   "cell_type": "code",
   "execution_count": 2,
   "metadata": {},
   "outputs": [],
   "source": [
    "import gzip as gz\n",
    "import json\n",
    "import sys as sklearn\n",
    "import spacy as sp\n",
    "import pandas as pd\n",
    "import numpy as np\n",
    "import re\n",
    "import math\n",
    "from sklearn.feature_extraction.text import TfidfVectorizer\n",
    "from rouge import Rouge\n",
    "import matplotlib.pyplot as plt"
   ]
  },
  {
   "cell_type": "markdown",
   "metadata": {},
   "source": [
    "## Importing data"
   ]
  },
  {
   "cell_type": "code",
   "execution_count": 3,
   "metadata": {},
   "outputs": [],
   "source": [
    "# Setting local file path\n",
    "path = \"newsroom-release/release/dev.jsonl.gz\"\n",
    "\n",
    "# Creating list entity to hold full set of loaded data\n",
    "data = []\n",
    "\n",
    "# Using gz to set path to zip file and iteritavly load each json line\n",
    "with gz.open(path) as f:\n",
    "    for ln in f:\n",
    "        obj = json.loads(ln)\n",
    "        data.append(obj)"
   ]
  },
  {
   "cell_type": "code",
   "execution_count": 4,
   "metadata": {},
   "outputs": [
    {
     "data": {
      "image/png": "[encoded data removed]",
      "text/plain": [
       "<Figure size 432x288 with 1 Axes>"
      ]
     },
     "metadata": {
      "needs_background": "light"
     },
     "output_type": "display_data"
    }
   ],
   "source": [
    "# Extracting appropriate data and transforming to pandas dataframe\n",
    "df = pd.DataFrame(data)\n",
    "df_extractive = df[df.density_bin == 'extractive']\n",
    "\n",
    "# Filtering on rough estimate of lenght text\n",
    "article_lengths = [len(text.split()) for text in df_extractive.text]\n",
    "_ = plt.hist(article_lengths, bins = 100, range = (0, 2000))\n",
    "length_check = [len > 250 for len in article_lengths]\n",
    "df_extractive = df_extractive[length_check]"
   ]
  },
  {
   "cell_type": "markdown",
   "metadata": {},
   "source": [
    "## Intermidiate Input Representation\n"
   ]
  },
  {
   "cell_type": "markdown",
   "metadata": {},
   "source": [
    "### Sentence splitting"
   ]
  },
  {
   "cell_type": "code",
   "execution_count": 5,
   "metadata": {},
   "outputs": [],
   "source": [
    "nlp = sp.load(\"en_core_web_sm\", disable=[\"tagger\", \"parser\", \"ner\", \"textcat\"])\n",
    "nlp.add_pipe(nlp.create_pipe('sentencizer'))"
   ]
  },
  {
   "cell_type": "code",
   "execution_count": 6,
   "metadata": {},
   "outputs": [],
   "source": [
    "# SENTENCE SPLITTING FUNCTION\n",
    "def sentence_splitting(doc):\n",
    "    doc = nlp(doc['text'])\n",
    "    sentences = [sent.string.strip() for sent in doc.sents]\n",
    "    \n",
    "    return sentences"
   ]
  },
  {
   "cell_type": "markdown",
   "metadata": {},
   "source": [
    "### Sparse TF-ISF matrix representation"
   ]
  },
  {
   "cell_type": "code",
   "execution_count": 7,
   "metadata": {},
   "outputs": [],
   "source": [
    "# PREPROCESS FUNCTION \n",
    "def preprocess(text):\n",
    "    text = nlp(text)\n",
    "    tokens = []\n",
    "    for token in text:\n",
    "        if token.is_stop == False and token.is_alpha == True:\n",
    "            tokens.append(token.lemma_)\n",
    "    \n",
    "    return tokens"
   ]
  },
  {
   "cell_type": "code",
   "execution_count": 8,
   "metadata": {},
   "outputs": [],
   "source": [
    "# TF-ISF MATRIX CREATION FUNCTION\n",
    "def create_tfisf_matrix(sentences, preprocessor = preprocess):\n",
    "    #Initializing ScikitLearn TF-IDF vectorizer and creating TF-IDF sparse matrix\n",
    "    vectorizer = TfidfVectorizer(tokenizer = preprocessor)\n",
    "    tfisf_matrix = vectorizer.fit_transform(sentences)\n",
    "    \n",
    "    # Saving list of all corpus tokens\n",
    "    feature_names = vectorizer.get_feature_names()\n",
    "\n",
    "    # Returning TF-IDF matrix\n",
    "    return tfisf_matrix, feature_names"
   ]
  },
  {
   "cell_type": "markdown",
   "metadata": {},
   "source": [
    "### Sentence scoring"
   ]
  },
  {
   "cell_type": "code",
   "execution_count": 22,
   "metadata": {},
   "outputs": [],
   "source": [
    "# SENTENCE SCORING FUNCTION\n",
    "def tfisf_sentence_scoring(tfisf_matrix, feature_names, sentences):\n",
    "    sentence_scores = []\n",
    "    tfisf_matrix =  pd.DataFrame.sparse.from_spmatrix(tfisf_matrix, columns=feature_names)\n",
    "    tfisf_matrix_row_sum = tfisf_matrix.sum(axis = 1)\n",
    "\n",
    "    for i, sentence in enumerate(sentences):\n",
    "        sentence_scores.append((i, tfisf_matrix_row_sum[i]))#/len(sentence)))\n",
    "    \n",
    "    sentence_scores = pd.DataFrame(sentence_scores,columns=[\"sentence_index\", \"sentence_score\"]).sort_values(by='sentence_score', ascending=False)\n",
    "    \n",
    "    return sentence_scores"
   ]
  },
  {
   "cell_type": "markdown",
   "metadata": {},
   "source": [
    "### Extract summary sentences and merge"
   ]
  },
  {
   "cell_type": "code",
   "execution_count": 10,
   "metadata": {},
   "outputs": [],
   "source": [
    "# SENTENCE EXTRACTION FUNCTION\n",
    "def tfisf_sentence_extraction(sentences, sentence_scores, n):\n",
    "    summary = []\n",
    "    \n",
    "    # Extracting indices of the n number of top scoring sentences\n",
    "    # sort them in ascending order\n",
    "    top_sentence_indices = np.sort(sentence_scores[0:n].sentence_index.values)\n",
    "\n",
    "    # Extracting the original sentences and appending to summary list\n",
    "    for index in top_sentence_indices:\n",
    "        summary.append(sentences[index])\n",
    "        \n",
    "    # Joining summary sentences\n",
    "    summary = ' '.join(summary)\n",
    "    \n",
    "    return summary"
   ]
  },
  {
   "cell_type": "markdown",
   "metadata": {},
   "source": [
    "## Score summaries with ROUGE"
   ]
  },
  {
   "cell_type": "code",
   "execution_count": 11,
   "metadata": {},
   "outputs": [],
   "source": [
    "# ROUGE SCORING FUNCTION\n",
    "def rouge_blue_scoring(summaries, references):\n",
    "    rouge_score = rouge.get_scores(summaries, references)\n",
    "    return rouge_score"
   ]
  },
  {
   "cell_type": "markdown",
   "metadata": {},
   "source": [
    "# Running the Experiment"
   ]
  },
  {
   "cell_type": "code",
   "execution_count": 23,
   "metadata": {},
   "outputs": [],
   "source": [
    "corpus = df_extractive\n",
    "corpus.reset_index(inplace = True)\n",
    "summaries = []\n",
    "\n",
    "for index, doc in corpus.iterrows():\n",
    "    sentences = sentence_splitting(doc)\n",
    "    tfisf_matrix, feature_names = create_tfisf_matrix(sentences = sentences)\n",
    "    sentence_scores = tfisf_sentence_scoring(tfisf_matrix, feature_names, sentences)\n",
    "    summary = tfisf_sentence_extraction(sentences, sentence_scores, 3)\n",
    "    summaries.append(summary)"
   ]
  },
  {
   "cell_type": "code",
   "execution_count": 24,
   "metadata": {},
   "outputs": [],
   "source": [
    "# ROUGE Scoring \n",
    "rouge = Rouge()\n",
    "scores = rouge_blue_scoring(summaries, corpus.iloc[0:len(summaries)].summary.values.tolist())\n",
    "scores_pd = pd.DataFrame(scores)\n",
    "\n",
    "rouge1_f1_scores = []\n",
    "rouge1_recall_scores = []\n",
    "rouge1_precision_scores = []\n",
    "\n",
    "rouge2_f1_scores = []\n",
    "rouge2_recall_scores = []\n",
    "rouge2_precision_scores = []\n",
    "\n",
    "rougel_f1_scores = []\n",
    "rougel_recall_scores = []\n",
    "rougel_precision_scores = []\n",
    "\n",
    "for i, score in scores_pd.iterrows():\n",
    "    rouge1_f1_scores.append(score['rouge-1']['f'])\n",
    "    rouge1_recall_scores.append(score['rouge-1']['r'])\n",
    "    rouge1_precision_scores.append(score['rouge-1']['p'])\n",
    "    \n",
    "    rouge2_f1_scores.append(score['rouge-2']['f'])\n",
    "    rouge2_recall_scores.append(score['rouge-2']['r'])\n",
    "    rouge2_precision_scores.append(score['rouge-2']['p'])\n",
    "    \n",
    "    rougel_f1_scores.append(score['rouge-l']['f'])\n",
    "    rougel_recall_scores.append(score['rouge-l']['r'])\n",
    "    rougel_precision_scores.append(score['rouge-l']['p'])\n",
    "    \n",
    "rouge1_f1_average = sum(rouge1_f1_scores)/len(rouge1_f1_scores)\n",
    "rouge1_recall_average = sum(rouge1_recall_scores)/len(rouge1_recall_scores)\n",
    "rouge1_precision_average = sum(rouge1_precision_scores)/len(rouge1_precision_scores)\n",
    "\n",
    "rouge2_f1_average = sum(rouge2_f1_scores)/len(rouge2_f1_scores)\n",
    "rouge2_recall_average = sum(rouge2_recall_scores)/len(rouge2_recall_scores)\n",
    "rouge2_precision_average = sum(rouge2_precision_scores)/len(rouge2_precision_scores)\n",
    "\n",
    "rougel_f1_average = sum(rougel_f1_scores)/len(rougel_f1_scores)\n",
    "rougel_recall_average = sum(rougel_recall_scores)/len(rougel_recall_scores)\n",
    "rougel_precision_average = sum(rougel_precision_scores)/len(rougel_precision_scores)\n",
    "\n",
    "\n",
    "res = {'r1': {'r': rouge1_recall_average, 'p': rouge1_precision_average, 'f1': rouge1_f1_average},\n",
    "      'r2': {'r': rouge2_recall_average, 'p': rouge2_precision_average, 'f1': rouge2_f1_average},\n",
    "      'rl': {'r': rougel_recall_average, 'p': rougel_precision_average, 'f1': rougel_f1_average}}\n",
    "\n",
    "pd.DataFrame(res).to_csv('TFISF_res.csv')"
   ]
  }
 ],
 "metadata": {
  "kernelspec": {
   "display_name": "Python 3",
   "language": "python",
   "name": "python3"
  },
  "language_info": {
   "codemirror_mode": {
    "name": "ipython",
    "version": 3
   },
   "file_extension": ".py",
   "mimetype": "text/x-python",
   "name": "python",
   "nbconvert_exporter": "python",
   "pygments_lexer": "ipython3",
   "version": "3.7.9"
  }
 },
 "nbformat": 4,
 "nbformat_minor": 4
}
