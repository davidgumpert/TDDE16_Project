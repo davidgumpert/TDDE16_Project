{
 "cells": [
  {
   "cell_type": "markdown",
   "metadata": {},
   "source": [
    "## Import Packages"
   ]
  },
  {
   "cell_type": "markdown",
   "metadata": {},
   "source": [
    "All packages that are needed are imported in the next cell, should only be ran once. "
   ]
  },
  {
   "cell_type": "code",
   "execution_count": 1,
   "metadata": {},
   "outputs": [
    {
     "name": "stdout",
     "output_type": "stream",
     "text": [
      "Requirement already satisfied: rouge in c:\\users\\david\\anaconda3\\envs\\tdde16\\lib\\site-packages (1.0.1)\n",
      "Requirement already satisfied: six in c:\\users\\david\\anaconda3\\envs\\tdde16\\lib\\site-packages (from rouge) (1.15.0)\n"
     ]
    }
   ],
   "source": [
    "import sys\n",
    "!{sys.executable} -m pip install rouge"
   ]
  },
  {
   "cell_type": "code",
   "execution_count": 2,
   "metadata": {},
   "outputs": [],
   "source": [
    "import gzip as gz\n",
    "import json\n",
    "import sys as sklearn\n",
    "import spacy as sp\n",
    "import pandas as pd\n",
    "import numpy as np\n",
    "import re\n",
    "import networkx as nx\n",
    "import math\n",
    "import matplotlib.pyplot as plt\n",
    "from sklearn.feature_extraction.text import TfidfVectorizer\n",
    "from nltk.cluster.util import cosine_distance\n",
    "from rouge import Rouge"
   ]
  },
  {
   "cell_type": "markdown",
   "metadata": {},
   "source": [
    "## Load Data"
   ]
  },
  {
   "cell_type": "code",
   "execution_count": 3,
   "metadata": {},
   "outputs": [],
   "source": [
    "path = \"newsroom-release/release/dev.jsonl.gz\"\n",
    "data = []\n",
    "\n",
    "with gz.open(path) as f:\n",
    "    for ln in f:\n",
    "        obj = json.loads(ln)\n",
    "        data.append(obj)"
   ]
  },
  {
   "cell_type": "code",
   "execution_count": 4,
   "metadata": {
    "scrolled": true
   },
   "outputs": [
    {
     "data": {
      "image/png": "[encoded data removed]",
      "text/plain": [
       "<Figure size 432x288 with 1 Axes>"
      ]
     },
     "metadata": {
      "needs_background": "light"
     },
     "output_type": "display_data"
    }
   ],
   "source": [
    "# Extracting appropriate data and transforming to pandas dataframe\n",
    "df = pd.DataFrame(data)\n",
    "df_extractive = df[df.density_bin == 'extractive']\n",
    "\n",
    "# Filtering on rough estimate of lenght text\n",
    "article_lengths = [len(text.split()) for text in df_extractive.text]\n",
    "_ = plt.hist(article_lengths, bins = 100, range = (0, 2000))\n",
    "length_check = [len > 250 for len in article_lengths]\n",
    "df_extractive = df_extractive[length_check]"
   ]
  },
  {
   "cell_type": "markdown",
   "metadata": {},
   "source": [
    "## Intermidiate Input Representation"
   ]
  },
  {
   "cell_type": "markdown",
   "metadata": {},
   "source": [
    "### Sentence splitting"
   ]
  },
  {
   "cell_type": "code",
   "execution_count": 7,
   "metadata": {},
   "outputs": [],
   "source": [
    "nlp = sp.load(\"en_core_web_sm\", disable=[\"tagger\", \"parser\", \"ner\", \"textcat\"])\n",
    "nlp.add_pipe(nlp.create_pipe('sentencizer'))"
   ]
  },
  {
   "cell_type": "code",
   "execution_count": 8,
   "metadata": {},
   "outputs": [],
   "source": [
    "# SENTENCE SPLITTING FUNCTION\n",
    "def sentence_splitting(doc):\n",
    "    # Using the NLP sentencizer pipeline to extract all text sentences\n",
    "    doc = nlp(doc['text'])\n",
    "    sentences = [sent.string.strip() for sent in doc.sents]\n",
    "    \n",
    "    return sentences"
   ]
  },
  {
   "cell_type": "markdown",
   "metadata": {},
   "source": [
    "### Sparse TF-ISF matrix representation"
   ]
  },
  {
   "cell_type": "code",
   "execution_count": 9,
   "metadata": {},
   "outputs": [],
   "source": [
    "# PREPROCESSING FUNCTION\n",
    "def preprocess(text):\n",
    "    # Transform text with SpaCy model for NLP procedures\n",
    "    text = nlp(text)\n",
    "    \n",
    "    # loop through the words in the text, removing stopwords and numerics\n",
    "    # Assign the remaining tokens to the token list in the lemma form\n",
    "    tokens = []\n",
    "    for token in text:\n",
    "        if token.is_stop == False and token.is_alpha == True:\n",
    "            tokens.append(token.lemma_)\n",
    "    \n",
    "    return tokens"
   ]
  },
  {
   "cell_type": "code",
   "execution_count": 10,
   "metadata": {},
   "outputs": [],
   "source": [
    "# TF-ISF MATRIX CREATION FUNCTION\n",
    "def create_tfisf_matrix(sentences, preprocessor = preprocess):\n",
    "    #Initializing ScikitLearn TF-IDF vectorizer and creating TF-IDF sparse matrix\n",
    "    vectorizer = TfidfVectorizer(tokenizer = preprocessor)\n",
    "    tfisf_matrix = vectorizer.fit_transform(sentences)\n",
    "    \n",
    "    # Saving list of all corpus tokens\n",
    "    feature_names = vectorizer.get_feature_names()\n",
    "\n",
    "    # Returning TF-IDF matrix\n",
    "    return tfisf_matrix, feature_names"
   ]
  },
  {
   "cell_type": "markdown",
   "metadata": {},
   "source": [
    "## Similarity matrix "
   ]
  },
  {
   "cell_type": "code",
   "execution_count": 11,
   "metadata": {},
   "outputs": [],
   "source": [
    "# SIMILARITY MATRIX FUNCTIUON\n",
    "def create_sim_matrix(sentences, tfisf_matrix):\n",
    "    # Remove possible NaN or inf or -inf and replace with numerical value\n",
    "    tfisf_matrix = np.nan_to_num(tfisf_matrix)\n",
    "    \n",
    "    # Transform matrix to list representation, needed for the cosine distance function\n",
    "    tfisf_matrix_list = tfisf_matrix.toarray().tolist()\n",
    "    \n",
    "    # Initialize empty quadratic sentence similarity matrix\n",
    "    similarity_matrix = np.zeros((len(sentences), len(sentences)))\n",
    "    \n",
    "    # Loop over all similarity matrix positions, calculating the cosine similarity sentence i,j\n",
    "    for i in range(len(sentences)):\n",
    "        # Ignore if sentence has no token, avoids cosine distance calculation of zero-vector\n",
    "        if sum(tfisf_matrix_list[i]) == 0:\n",
    "            continue\n",
    "        for j in range(len(sentences)):\n",
    "            # Ignore if both are same sentences or sentence has no token\n",
    "            if i == j or sum(tfisf_matrix_list[j]) == 0: \n",
    "                continue \n",
    "            similarity_matrix[i][j] = 1 - cosine_distance(tfisf_matrix_list[i], tfisf_matrix_list[j])\n",
    "    \n",
    "    # Return the final similarity matrix\n",
    "    return similarity_matrix\n"
   ]
  },
  {
   "cell_type": "markdown",
   "metadata": {},
   "source": [
    "## Graph representation and sentence scoring"
   ]
  },
  {
   "cell_type": "code",
   "execution_count": 12,
   "metadata": {},
   "outputs": [],
   "source": [
    "# SENTENCE SCORING FUNCTION\n",
    "def textrank_sentence_scoring(similarity_matrix, sentences):\n",
    "    # Create graphical representation from similarity matrix\n",
    "    graph = nx.from_numpy_array(similarity_matrix)\n",
    "    \n",
    "    # Rank all sentences according to pagerank algorithm\n",
    "    sentence_scores = nx.pagerank(graph, max_iter = 500)\n",
    "    \n",
    "    # Sort all sentences and sentence index according to score\n",
    "    sentence_scores_sorted = sorted(((sentence_scores[i],i) for i,s in enumerate(sentences)), reverse=True)    \n",
    "    \n",
    "    # Return the sorted sentence scores + index \n",
    "    return sentence_scores_sorted"
   ]
  },
  {
   "cell_type": "markdown",
   "metadata": {},
   "source": [
    "## Sentence Extraction"
   ]
  },
  {
   "cell_type": "code",
   "execution_count": 13,
   "metadata": {},
   "outputs": [],
   "source": [
    "def textrank_sentence_extraction(sentences, sentence_scores, n):\n",
    "    summary = []\n",
    "    \n",
    "    # Sort sentence indices in ascending order\n",
    "    sentence_indices_sorted = sorted(sentence_scores[0:n], key=lambda tup: tup[1])\n",
    "    \n",
    "    # Extract sentences and append to summary in that order\n",
    "    for i in sentence_indices_sorted:\n",
    "        summary.append(sentences[i[1]])\n",
    "    \n",
    "    # Join all sentences to form final summary\n",
    "    summary = ' '.join(summary)\n",
    "    \n",
    "    # Return summary\n",
    "    return summary\n",
    "    "
   ]
  },
  {
   "cell_type": "markdown",
   "metadata": {},
   "source": [
    " # Running the Model\n"
   ]
  },
  {
   "cell_type": "code",
   "execution_count": 20,
   "metadata": {},
   "outputs": [],
   "source": [
    "# Setting corpus size to evaluate\n",
    "corpus = df_extractive.sample(5000)\n",
    "corpus.reset_index(inplace = True)\n",
    "summaries = []\n",
    "\n",
    "# Looping over every document in every corpus, running each model step\n",
    "for index, doc in corpus.iterrows():\n",
    "    # Sentence split document\n",
    "    sentences = sentence_splitting(doc)\n",
    "    \n",
    "    # TF-ISF matrix construction\n",
    "    tfisf_matrix, feature_names = create_tfisf_matrix(sentences = sentences)\n",
    "    \n",
    "    # Similarity matrix construction\n",
    "    similarity_matrix = create_sim_matrix(sentences, tfisf_matrix)\n",
    "    \n",
    "    # Scoring each document sentence\n",
    "    sentence_scores = textrank_sentence_scoring(similarity_matrix, sentences)\n",
    "    \n",
    "    # Extracting and merging sentences \n",
    "    summary = textrank_sentence_extraction(sentences, sentence_scores, 3)\n",
    "    \n",
    "    # Append summary to list of summaries \n",
    "    summaries.append(summary)\n",
    "    \n",
    "    # Checkpoint alert\n",
    "    if index != 0 and index % 5000 == 0:\n",
    "        print('Checkpoint: ', index)\n"
   ]
  },
  {
   "cell_type": "markdown",
   "metadata": {},
   "source": [
    "# Score summaries with ROUGE"
   ]
  },
  {
   "cell_type": "code",
   "execution_count": 21,
   "metadata": {},
   "outputs": [],
   "source": [
    "# ROUGE AND BLEU SCORING FUNCTION\n",
    "def rouge_blue_scoring(summary, reference):\n",
    "    rouge_score = rouge.get_scores(summary, reference)\n",
    "    \n",
    "    return rouge_score"
   ]
  },
  {
   "cell_type": "code",
   "execution_count": 22,
   "metadata": {},
   "outputs": [],
   "source": [
    "rouge = Rouge()\n",
    "scores = rouge_blue_scoring(summaries, corpus.iloc[0:len(summaries)].summary.values.tolist())\n",
    "scores_pd = pd.DataFrame(scores)\n",
    "\n",
    "rouge1_f1_scores = []\n",
    "rouge1_recall_scores = []\n",
    "rouge1_precision_scores = []\n",
    "\n",
    "rouge2_f1_scores = []\n",
    "rouge2_recall_scores = []\n",
    "rouge2_precision_scores = []\n",
    "\n",
    "rougel_f1_scores = []\n",
    "rougel_recall_scores = []\n",
    "rougel_precision_scores = []\n",
    "\n",
    "for i, score in scores_pd.iterrows():\n",
    "    rouge1_f1_scores.append(score['rouge-1']['f'])\n",
    "    rouge1_recall_scores.append(score['rouge-1']['r'])\n",
    "    rouge1_precision_scores.append(score['rouge-1']['p'])\n",
    "    \n",
    "    rouge2_f1_scores.append(score['rouge-2']['f'])\n",
    "    rouge2_recall_scores.append(score['rouge-2']['r'])\n",
    "    rouge2_precision_scores.append(score['rouge-2']['p'])\n",
    "    \n",
    "    rougel_f1_scores.append(score['rouge-l']['f'])\n",
    "    rougel_recall_scores.append(score['rouge-l']['r'])\n",
    "    rougel_precision_scores.append(score['rouge-l']['p'])\n",
    "    \n",
    "rouge1_f1_average = sum(rouge1_f1_scores)/len(rouge1_f1_scores)\n",
    "rouge1_recall_average = sum(rouge1_recall_scores)/len(rouge1_recall_scores)\n",
    "rouge1_precision_average = sum(rouge1_precision_scores)/len(rouge1_precision_scores)\n",
    "\n",
    "rouge2_f1_average = sum(rouge2_f1_scores)/len(rouge2_f1_scores)\n",
    "rouge2_recall_average = sum(rouge2_recall_scores)/len(rouge2_recall_scores)\n",
    "rouge2_precision_average = sum(rouge2_precision_scores)/len(rouge2_precision_scores)\n",
    "\n",
    "rougel_f1_average = sum(rougel_f1_scores)/len(rougel_f1_scores)\n",
    "rougel_recall_average = sum(rougel_recall_scores)/len(rougel_recall_scores)\n",
    "rougel_precision_average = sum(rougel_precision_scores)/len(rougel_precision_scores)\n",
    "\n",
    "\n",
    "res = {'r1': {'r': rouge1_recall_average, 'p': rouge1_precision_average, 'f1': rouge1_f1_average},\n",
    "      'r2': {'r': rouge2_recall_average, 'p': rouge2_precision_average, 'f1': rouge2_f1_average},\n",
    "      'rl': {'r': rougel_recall_average, 'p': rougel_precision_average, 'f1': rougel_f1_average}}\n",
    "\n",
    "pd.DataFrame(res).to_csv('TextRank_res.csv')"
   ]
  }
 ],
 "metadata": {
  "kernelspec": {
   "display_name": "Python 3",
   "language": "python",
   "name": "python3"
  },
  "language_info": {
   "codemirror_mode": {
    "name": "ipython",
    "version": 3
   },
   "file_extension": ".py",
   "mimetype": "text/x-python",
   "name": "python",
   "nbconvert_exporter": "python",
   "pygments_lexer": "ipython3",
   "version": "3.7.9"
  }
 },
 "nbformat": 4,
 "nbformat_minor": 4
}
